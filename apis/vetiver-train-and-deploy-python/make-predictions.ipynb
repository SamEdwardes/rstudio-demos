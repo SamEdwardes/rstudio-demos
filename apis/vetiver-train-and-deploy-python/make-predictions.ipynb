{
 "cells": [
  {
   "cell_type": "markdown",
   "metadata": {},
   "source": [
    "# Making model predictions from vetitver API"
   ]
  },
  {
   "cell_type": "code",
   "execution_count": null,
   "metadata": {},
   "outputs": [],
   "source": [
    "import os\n",
    "\n",
    "import pandas as pd\n",
    "import vetiver\n",
    "from vetiver.data import mtcars"
   ]
  },
  {
   "cell_type": "markdown",
   "metadata": {},
   "source": [
    "Create new data to make predctions with."
   ]
  },
  {
   "cell_type": "code",
   "execution_count": null,
   "metadata": {},
   "outputs": [],
   "source": [
    "mtcars.head()"
   ]
  },
  {
   "cell_type": "code",
   "execution_count": null,
   "metadata": {},
   "outputs": [],
   "source": [
    "new_data = pd.DataFrame.from_records(\n",
    "    {\n",
    "        \"cyl\": [6, 8, 20],\n",
    "        \"disp\": [200, 100, 500],\n",
    "        \"hp\": [100, 200, 750],\n",
    "        \"drat\": [4.0, 2.3, 5.6],\n",
    "        \"wt\": [2.5, 4.1, 1.2],\n",
    "        \"qsec\": [10.11, 19.12, 17.02],\n",
    "        \"vs\": [0, 0, 1],\n",
    "        \"am\": [0, 1, 1],\n",
    "        \"gear\": [4, 3, 7],\n",
    "        \"carb\": [2, 3, 4],\n",
    "    }\n",
    ")\n",
    "\n",
    "new_data"
   ]
  },
  {
   "cell_type": "markdown",
   "metadata": {},
   "source": [
    "Make a prediction using the newly deployed model. First define the model endpoint. Remember to replace `url` with your own URL."
   ]
  },
  {
   "cell_type": "code",
   "execution_count": null,
   "metadata": {},
   "outputs": [],
   "source": [
    "url = \"https://colorado.posit.co/rsc/content/c2f189da-7626-48e7-9882-78ee6c49c1b9\"\n",
    "endpoint = vetiver.server.vetiver_endpoint(f\"{url}/predict\")\n",
    "endpoint"
   ]
  },
  {
   "cell_type": "markdown",
   "metadata": {},
   "source": [
    "Make predcitions using the `vetiver.predict` function."
   ]
  },
  {
   "cell_type": "code",
   "execution_count": null,
   "metadata": {},
   "outputs": [],
   "source": [
    "predictions = vetiver.predict(\n",
    "    endpoint, new_data, headers={\"Authorization\": f\"Key {os.getenv('CONNECT_API_KEY')}\"}\n",
    ")\n",
    "\n",
    "predictions"
   ]
  },
  {
   "cell_type": "code",
   "execution_count": null,
   "metadata": {},
   "outputs": [],
   "source": [
    "new_data[\"predicted-mpg\"] = predictions\n",
    "new_data"
   ]
  }
 ],
 "metadata": {
  "kernelspec": {
   "display_name": "Python 3.10.4 ('.venv': venv)",
   "language": "python",
   "name": "python3"
  },
  "language_info": {
   "codemirror_mode": {
    "name": "ipython",
    "version": 3
   },
   "file_extension": ".py",
   "mimetype": "text/x-python",
   "name": "python",
   "nbconvert_exporter": "python",
   "pygments_lexer": "ipython3",
   "version": "3.10.4"
  },
  "vscode": {
   "interpreter": {
    "hash": "53ef443432fff5f232c80d9fa02fa7a9f9ec6e1194a2154c428c939a3207e847"
   }
  }
 },
 "nbformat": 4,
 "nbformat_minor": 4
}
