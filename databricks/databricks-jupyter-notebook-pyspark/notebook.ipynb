{
 "cells": [
  {
   "cell_type": "code",
   "execution_count": null,
   "metadata": {
    "vscode": {
     "languageId": "python"
    }
   },
   "outputs": [],
   "source": [
    "import os\n",
    "\n",
    "import plotly.express as px\n",
    "import polars as pl\n",
    "from databricks.connect import DatabricksSession\n",
    "from databricks.sdk.core import Config\n",
    "from dotenv import load_dotenv\n",
    "from loguru import logger\n",
    "\n",
    "load_dotenv()"
   ]
  },
  {
   "cell_type": "markdown",
   "metadata": {},
   "source": [
    "## Configuration"
   ]
  },
  {
   "cell_type": "markdown",
   "metadata": {},
   "source": [
    "Create the Databricks configuration."
   ]
  },
  {
   "cell_type": "code",
   "execution_count": null,
   "metadata": {
    "vscode": {
     "languageId": "python"
    }
   },
   "outputs": [],
   "source": [
    "if os.environ.get(\"WORKBENCH_WEB_BASE_URL\"):\n",
    "    logger.info(\"Running in Posit Workbench\")\n",
    "    cfg = Config(\n",
    "        profile=\"workbench\",\n",
    "        cluster_id=os.environ.get(\"DATABRICKS_CLUSTER_ID\", \"0606-201802-s75pygqn\"),\n",
    "    )\n",
    "    \n",
    "elif os.environ.get(\"POSIT_PRODUCT\") == \"CONNECT\":\n",
    "    logger.info(\"Running in Posit Connect\")\n",
    "    raise ValueError(\"Example for Databricks with PySpark running in Posit Connect not yet created. Service account for Databricks first needs to be added to Connect.\")\n",
    "    \n",
    "else:\n",
    "    raise ValueError(\"Not running in Posit Workbench or Posit Connect.\")"
   ]
  },
  {
   "cell_type": "markdown",
   "metadata": {},
   "source": [
    "## Spark"
   ]
  },
  {
   "cell_type": "markdown",
   "metadata": {
    "vscode": {
     "languageId": "python"
    }
   },
   "source": [
    "Establish a connection to Databricks"
   ]
  },
  {
   "cell_type": "code",
   "execution_count": null,
   "metadata": {
    "vscode": {
     "languageId": "python"
    }
   },
   "outputs": [],
   "source": [
    "spark = DatabricksSession.builder.sdkConfig(cfg).getOrCreate()"
   ]
  },
  {
   "cell_type": "code",
   "execution_count": null,
   "metadata": {
    "vscode": {
     "languageId": "python"
    }
   },
   "outputs": [],
   "source": [
    "sql_query = \"\"\"\n",
    "SELECT *\n",
    "FROM `sol_eng_demo_nickp`.`default`.`lending_club`\n",
    "LIMIT 100;\n",
    "\"\"\"\n",
    "\n",
    "df = (\n",
    "    pl\n",
    "    .DataFrame(spark.sql(sql_query).toPandas())\n",
    "    .with_columns(\n",
    "        pl.col(\"loan_amnt\", \"funded_amnt\", \"funded_amnt_inv\", \"revol_bal\").cast(pl.Int64),\n",
    "        pl.col(\"installment\", \"annual_inc\", \"out_prncp\", \"out_prncp_inv\", \"total_pymnt\").cast(pl.Float64),\n",
    "        pl.col(\"int_rate\", \"revol_util\").str.replace(\"%\", \"\").cast(pl.Float64) / 100\n",
    "    )\n",
    ")\n",
    "\n",
    "df"
   ]
  },
  {
   "cell_type": "code",
   "execution_count": null,
   "metadata": {
    "vscode": {
     "languageId": "python"
    }
   },
   "outputs": [],
   "source": [
    "px.histogram(df, x=\"loan_amnt\")"
   ]
  },
  {
   "cell_type": "code",
   "execution_count": null,
   "metadata": {
    "vscode": {
     "languageId": "python"
    }
   },
   "outputs": [],
   "source": []
  }
 ],
 "metadata": {
  "language_info": {
   "name": "plaintext"
  }
 },
 "nbformat": 4,
 "nbformat_minor": 2
}
