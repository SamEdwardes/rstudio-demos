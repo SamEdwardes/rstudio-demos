{
 "cells": [
  {
   "cell_type": "code",
   "execution_count": null,
   "metadata": {
    "vscode": {
     "languageId": "python"
    }
   },
   "outputs": [],
   "source": [
    "import os\n",
    "\n",
    "import polars as pl\n",
    "import plotly.express as px\n",
    "from databricks import sql\n",
    "from databricks.sdk.core import ApiClient\n",
    "from databricks.sdk.service.iam import CurrentUserAPI\n",
    "from dotenv import load_dotenv\n",
    "from loguru import logger\n",
    "from posit.connect.external.databricks import (\n",
    "    ConnectStrategy,\n",
    "    databricks_config,\n",
    "    sql_credentials,\n",
    ")\n",
    "from posit.workbench.external.databricks import WorkbenchStrategy\n",
    "from rich import inspect\n",
    "\n",
    "load_dotenv()\n"
   ]
  },
  {
   "cell_type": "markdown",
   "metadata": {},
   "source": [
    "## Configuration"
   ]
  },
  {
   "cell_type": "markdown",
   "metadata": {},
   "source": [
    "Create the Databricks configuration."
   ]
  },
  {
   "cell_type": "code",
   "execution_count": null,
   "metadata": {
    "vscode": {
     "languageId": "python"
    }
   },
   "outputs": [],
   "source": [
    "if os.environ.get(\"WORKBENCH_WEB_BASE_URL\"):\n",
    "    logger.info(\"Running in Posit Workbench\")\n",
    "    cfg = databricks_config(\n",
    "        posit_workbench_strategy=WorkbenchStrategy(),\n",
    "    )\n",
    "    \n",
    "elif os.environ.get(\"POSIT_PRODUCT\") == \"CONNECT\":\n",
    "    logger.info(\"Running in Posit Connect\")\n",
    "    cfg = databricks_config(\n",
    "        posit_connect_strategy=ConnectStrategy(),\n",
    "        host = \"adb-3256282566390055.15.azuredatabricks.net\"\n",
    "    )\n",
    "\n",
    "else:\n",
    "    raise ValueError(\"Not running in Posit Workbench or Posit Connect.\")\n",
    "\n",
    "\n",
    "inspect(cfg)"
   ]
  },
  {
   "cell_type": "code",
   "execution_count": null,
   "metadata": {
    "vscode": {
     "languageId": "python"
    }
   },
   "outputs": [],
   "source": [
    "databricks_user = CurrentUserAPI(ApiClient(cfg)).me()\n",
    "inspect(databricks_user)"
   ]
  },
  {
   "cell_type": "markdown",
   "metadata": {},
   "source": [
    "## SQL Warehouse"
   ]
  },
  {
   "cell_type": "markdown",
   "metadata": {
    "vscode": {
     "languageId": "python"
    }
   },
   "source": [
    "Establish a connection to Databricks"
   ]
  },
  {
   "cell_type": "code",
   "execution_count": null,
   "metadata": {
    "vscode": {
     "languageId": "python"
    }
   },
   "outputs": [],
   "source": [
    "con = sql.connect(\n",
    "    server_hostname=cfg.host,\n",
    "    http_path=\"/sql/1.0/warehouses/e985c33f1db7502f\",\n",
    "    credentials_provider=sql_credentials(cfg),\n",
    ")\n",
    "\n",
    "inspect(con)"
   ]
  },
  {
   "cell_type": "code",
   "execution_count": null,
   "metadata": {
    "vscode": {
     "languageId": "python"
    }
   },
   "outputs": [],
   "source": [
    "sql_query = \"\"\"\n",
    "SELECT *\n",
    "FROM `sol_eng_demo_nickp`.`default`.`lending_club`\n",
    "LIMIT 100;\n",
    "\"\"\"\n",
    "\n",
    "df = (\n",
    "    pl\n",
    "    .read_database(sql_query, con)\n",
    "    .with_columns(\n",
    "        pl.col(\"loan_amnt\", \"funded_amnt\", \"funded_amnt_inv\", \"revol_bal\").cast(pl.Int64),\n",
    "        pl.col(\"installment\", \"annual_inc\", \"out_prncp\", \"out_prncp_inv\", \"total_pymnt\").cast(pl.Float64),\n",
    "        pl.col(\"int_rate\", \"revol_util\").str.replace(\"%\", \"\").cast(pl.Float64) / 100\n",
    "    )\n",
    ")\n",
    "\n",
    "df"
   ]
  },
  {
   "cell_type": "code",
   "execution_count": null,
   "metadata": {
    "vscode": {
     "languageId": "python"
    }
   },
   "outputs": [],
   "source": [
    "px.histogram(df, x=\"loan_amnt\")"
   ]
  }
 ],
 "metadata": {
  "language_info": {
   "name": "plaintext"
  }
 },
 "nbformat": 4,
 "nbformat_minor": 2
}
