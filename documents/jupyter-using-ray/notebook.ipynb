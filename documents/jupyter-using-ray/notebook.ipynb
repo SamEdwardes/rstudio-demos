{
 "cells": [
  {
   "cell_type": "markdown",
   "metadata": {},
   "source": [
    "# Using Ray to Execute Parellel Code\n",
    "\n",
    "For more details about Ray refer to <https://docs.ray.io/en/latest/ray-core/walkthrough.html>."
   ]
  },
  {
   "cell_type": "code",
   "execution_count": null,
   "metadata": {},
   "outputs": [],
   "source": [
    "import time\n",
    "\n",
    "import ray"
   ]
  },
  {
   "cell_type": "markdown",
   "metadata": {},
   "source": [
    "Initialize a local Ray cluster."
   ]
  },
  {
   "cell_type": "code",
   "execution_count": null,
   "metadata": {},
   "outputs": [],
   "source": [
    "ray.init()"
   ]
  },
  {
   "cell_type": "markdown",
   "metadata": {},
   "source": [
    "Define two functions that do the same thing. The first function does not use Ray, each iteration will run one after the other. The second function uses Ray. The iterations can run in parellel."
   ]
  },
  {
   "cell_type": "code",
   "execution_count": null,
   "metadata": {},
   "outputs": [],
   "source": [
    "def normal_function(x):\n",
    "    print(f\"Iteration {x}\")\n",
    "    time.sleep(1)\n",
    "    return x\n",
    "\n",
    "\n",
    "@ray.remote\n",
    "def ray_function(x):\n",
    "    print(f\"Iteration {x}\")\n",
    "    time.sleep(1)\n",
    "    return x\n",
    "\n",
    "\n",
    "number_of_iterations = 5"
   ]
  },
  {
   "cell_type": "markdown",
   "metadata": {},
   "source": [
    "Test how long it takes to run the function in a **single thread/process**."
   ]
  },
  {
   "cell_type": "code",
   "execution_count": null,
   "metadata": {},
   "outputs": [],
   "source": [
    "%%time\n",
    "values = [normal_function(i) for i in range(number_of_iterations)]\n",
    "print(values)"
   ]
  },
  {
   "cell_type": "markdown",
   "metadata": {},
   "source": [
    "Test how long it takes to run the function using **Ray**."
   ]
  },
  {
   "cell_type": "code",
   "execution_count": null,
   "metadata": {},
   "outputs": [],
   "source": [
    "%%time\n",
    "futures = [ray_function.remote(i) for i in range(number_of_iterations)]\n",
    "values = ray.get(futures)\n",
    "print(values)"
   ]
  }
 ],
 "metadata": {
  "interpreter": {
   "hash": "9f5f1c310be43cc4fb25b95eca5b18fb6fe923fc9cde1eb582f4dd89d9ea29e7"
  },
  "kernelspec": {
   "display_name": "Python 3.10.4 64-bit ('.venv': venv)",
   "name": "python3"
  },
  "language_info": {
   "codemirror_mode": {
    "name": "ipython",
    "version": 3
   },
   "file_extension": ".py",
   "mimetype": "text/x-python",
   "name": "python",
   "nbconvert_exporter": "python",
   "pygments_lexer": "ipython3",
   "version": "3.10.4"
  }
 },
 "nbformat": 4,
 "nbformat_minor": 2
}
